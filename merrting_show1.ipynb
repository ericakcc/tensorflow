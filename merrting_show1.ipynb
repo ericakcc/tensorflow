{
 "cells": [
  {
   "cell_type": "markdown",
   "metadata": {},
   "source": [
    "\n",
    "## Just show a easy three-layer neural network\n",
    "\n",
    "    *x_data is fake hahaha, which is a line add some noise.\n",
    "\n",
    " $x = linspace(-1,1,300)$       \n",
    "\n",
    "$y = x^2 -0.5 + noise$         \n",
    "       \n",
    "\n",
    "**1. note that loss is the cost function.**\n",
    "\n",
    "**2. in this case we use gradient decent to minimize our cost function.**\n",
    "\n",
    "**3. It is just a linear regression.**\n",
    "\n",
    "***You can find this code in my Github : ericakcc***"
   ]
  },
  {
   "cell_type": "code",
   "execution_count": 1,
   "metadata": {
    "collapsed": false
   },
   "outputs": [
    {
     "name": "stderr",
     "output_type": "stream",
     "text": [
      "/home/ericakcc/anaconda2/lib/python2.7/site-packages/matplotlib/font_manager.py:273: UserWarning: Matplotlib is building the font cache using fc-list. This may take a moment.\n",
      "  warnings.warn('Matplotlib is building the font cache using fc-list. This may take a moment.')\n"
     ]
    }
   ],
   "source": [
    "#first we import some moudule\n",
    "from __future__ import print_function\n",
    "import tensorflow as tf\n",
    "import numpy as np\n",
    "import matplotlib.pyplot as plt\n",
    "from mpl_toolkits.mplot3d import Axes3D \n",
    "from matplotlib import cm"
   ]
  },
  {
   "cell_type": "code",
   "execution_count": 2,
   "metadata": {
    "collapsed": true
   },
   "outputs": [],
   "source": [
    "#define a layer \n",
    "def add_layer(inputs, in_size, out_size, activation_function=None):\n",
    "    # add one more layer and return the output of this layer\n",
    "    Weights = tf.Variable(tf.random_normal([in_size, out_size]))\n",
    "    biases = tf.Variable(tf.zeros([1, out_size]) + 0.1)\n",
    "    Wx_plus_b = tf.matmul(inputs, Weights) + biases\n",
    "    if activation_function is None:\n",
    "        outputs = Wx_plus_b\n",
    "    else:\n",
    "        outputs = activation_function(Wx_plus_b)\n",
    "    return outputs"
   ]
  },
  {
   "cell_type": "code",
   "execution_count": 3,
   "metadata": {
    "collapsed": true
   },
   "outputs": [],
   "source": [
    "# Make up some real data\n",
    "x_data = np.linspace(-1,1,300)[:, np.newaxis]\n",
    "noise = np.random.normal(0, 0.05, x_data.shape)\n",
    "y_data = np.square(x_data) - 0.5 + noise"
   ]
  },
  {
   "cell_type": "code",
   "execution_count": 4,
   "metadata": {
    "collapsed": true
   },
   "outputs": [],
   "source": [
    "# define placeholder for inputs to network\n",
    "xs = tf.placeholder(tf.float32, [None, 1])\n",
    "ys = tf.placeholder(tf.float32, [None, 1])\n",
    "# add hidden layer\n",
    "l1 = add_layer(xs, 1, 10, activation_function=None)#tf.nn.relu\n",
    "# add output layer\n",
    "prediction = add_layer(l1, 10, 1, activation_function=None)"
   ]
  },
  {
   "cell_type": "code",
   "execution_count": 5,
   "metadata": {
    "collapsed": true
   },
   "outputs": [],
   "source": [
    "# the error between prediciton and real data\n",
    "loss = tf.reduce_mean(tf.reduce_sum(tf.square(ys - prediction),\n",
    "                     reduction_indices=[1]))\n",
    "train_step = tf.train.GradientDescentOptimizer(0.01).minimize(loss)#0.8 0.1"
   ]
  },
  {
   "cell_type": "code",
   "execution_count": 6,
   "metadata": {
    "collapsed": true
   },
   "outputs": [],
   "source": [
    "# init\n",
    "init = tf.initialize_all_variables()\n",
    "sess = tf.Session()\n",
    "sess.run(init)"
   ]
  },
  {
   "cell_type": "code",
   "execution_count": 7,
   "metadata": {
    "collapsed": false,
    "scrolled": true
   },
   "outputs": [
    {
     "name": "stdout",
     "output_type": "stream",
     "text": [
      "1.81273\n"
     ]
    },
    {
     "name": "stderr",
     "output_type": "stream",
     "text": [
      "/home/ericakcc/anaconda2/lib/python2.7/site-packages/matplotlib/backend_bases.py:2437: MatplotlibDeprecationWarning: Using default event loop until function specific to this GUI is implemented\n",
      "  warnings.warn(str, mplDeprecation)\n"
     ]
    },
    {
     "name": "stdout",
     "output_type": "stream",
     "text": [
      "0.0921806\n",
      "0.0921736\n",
      "0.0921736\n",
      "0.0921736\n",
      "0.0921736\n",
      "0.0921736\n",
      "0.0921736\n",
      "0.0921736\n"
     ]
    },
    {
     "ename": "KeyboardInterrupt",
     "evalue": "",
     "output_type": "error",
     "traceback": [
      "\u001b[1;31m---------------------------------------------------------------------------\u001b[0m",
      "\u001b[1;31mKeyboardInterrupt\u001b[0m                         Traceback (most recent call last)",
      "\u001b[1;32m<ipython-input-7-f6420f6e81cb>\u001b[0m in \u001b[0;36m<module>\u001b[1;34m()\u001b[0m\n\u001b[0;32m     19\u001b[0m         \u001b[1;31m# plot the prediction\u001b[0m\u001b[1;33m\u001b[0m\u001b[1;33m\u001b[0m\u001b[0m\n\u001b[0;32m     20\u001b[0m         \u001b[0mlines\u001b[0m \u001b[1;33m=\u001b[0m \u001b[0max\u001b[0m\u001b[1;33m.\u001b[0m\u001b[0mplot\u001b[0m\u001b[1;33m(\u001b[0m\u001b[0mx_data\u001b[0m\u001b[1;33m,\u001b[0m \u001b[0mprediction_value\u001b[0m\u001b[1;33m,\u001b[0m \u001b[1;34m'r-'\u001b[0m\u001b[1;33m,\u001b[0m \u001b[0mlw\u001b[0m\u001b[1;33m=\u001b[0m\u001b[1;36m5\u001b[0m\u001b[1;33m)\u001b[0m\u001b[1;33m\u001b[0m\u001b[0m\n\u001b[1;32m---> 21\u001b[1;33m         \u001b[0mplt\u001b[0m\u001b[1;33m.\u001b[0m\u001b[0mpause\u001b[0m\u001b[1;33m(\u001b[0m\u001b[1;36m0.3\u001b[0m\u001b[1;33m)\u001b[0m\u001b[1;33m\u001b[0m\u001b[0m\n\u001b[0m\u001b[0;32m     22\u001b[0m \u001b[1;33m\u001b[0m\u001b[0m\n",
      "\u001b[1;32m/home/ericakcc/anaconda2/lib/python2.7/site-packages/matplotlib/pyplot.pyc\u001b[0m in \u001b[0;36mpause\u001b[1;34m(interval)\u001b[0m\n\u001b[0;32m    294\u001b[0m     \u001b[1;31m# No on-screen figure is active, so sleep() is all we need.\u001b[0m\u001b[1;33m\u001b[0m\u001b[1;33m\u001b[0m\u001b[0m\n\u001b[0;32m    295\u001b[0m     \u001b[1;32mimport\u001b[0m \u001b[0mtime\u001b[0m\u001b[1;33m\u001b[0m\u001b[0m\n\u001b[1;32m--> 296\u001b[1;33m     \u001b[0mtime\u001b[0m\u001b[1;33m.\u001b[0m\u001b[0msleep\u001b[0m\u001b[1;33m(\u001b[0m\u001b[0minterval\u001b[0m\u001b[1;33m)\u001b[0m\u001b[1;33m\u001b[0m\u001b[0m\n\u001b[0m\u001b[0;32m    297\u001b[0m \u001b[1;33m\u001b[0m\u001b[0m\n\u001b[0;32m    298\u001b[0m \u001b[1;33m\u001b[0m\u001b[0m\n",
      "\u001b[1;31mKeyboardInterrupt\u001b[0m: "
     ]
    }
   ],
   "source": [
    "# plot the real data\n",
    "fig = plt.figure()\n",
    "ax = fig.add_subplot(1,1,1)\n",
    "ax.scatter(x_data, y_data)\n",
    "plt.axis([-1.5, 1.5, -0.8, 0.8])\n",
    "plt.ion()\n",
    "#plt.show()\n",
    "for i in range(10000):\n",
    "    # training\n",
    "    sess.run(train_step, feed_dict={xs: x_data, ys: y_data})\n",
    "    if i % 50 == 0:\n",
    "        # to visualize the result and improvement\n",
    "        try:\n",
    "            ax.lines.remove(lines[0])\n",
    "        except Exception:\n",
    "            pass\n",
    "        prediction_value = sess.run(prediction, feed_dict={xs: x_data})\n",
    "        print(sess.run(loss, feed_dict={xs:x_data, ys:y_data}))\n",
    "\t# plot the prediction\n",
    "        lines = ax.plot(x_data, prediction_value, 'r-', lw=5)\n",
    "        plt.pause(0.3)\n",
    "        "
   ]
  },
  {
   "cell_type": "code",
   "execution_count": 8,
   "metadata": {
    "collapsed": false,
    "scrolled": true
   },
   "outputs": [],
   "source": [
    "# One theta\n",
    "xx = np.linspace(-1,1,300)\n",
    "v0 = np.linspace(-10,10, 100)\n",
    "v1 = np.linspace(-10,10, 100)\n",
    "\n",
    "#for i ,j in zip(range(100),range(100)):\n",
    "#h = v0[i] + v1[j]*x_data\n",
    "h = []\n",
    "for i in range(100):\n",
    "    h.append(v1[i]*xx)\n",
    "h = np.array(h)\n",
    "h = np.squeeze(h)\n",
    "\n",
    "JJ = np.zeros(100)\n",
    "for i in range(100):\n",
    "    J = (np.sum((abs((h[i,:]-y_data[:,0]))**2)))/600\n",
    "    JJ[i] = J\n",
    "#print (sum(h[:,99]-y_data[:,0]))\n",
    "    #print(o.shape)\n",
    "#print(len(JJ))\n",
    "#plt.plot(h[:,99])\n",
    "#plt.show()\n",
    "plt.rc('xtick',labelsize=20)\n",
    "plt.rc('ytick',labelsize=20)\n",
    "plt.plot(v1,JJ)\n",
    "plt.xlabel(r'$\\theta_1$',fontsize=20)\n",
    "plt.ylabel(r'$J(\\theta_1)$',fontsize=20)\n",
    "plt.title('one variable',fontsize=20)\n",
    "plt.savefig('meet1.png',format='png')\n",
    "plt.show()"
   ]
  },
  {
   "cell_type": "code",
   "execution_count": 17,
   "metadata": {
    "collapsed": false
   },
   "outputs": [],
   "source": [
    "## two theta\n",
    "def Hypothesis(x, theta_1, theta_0 = None ):\n",
    "    if theta_0 is None:\n",
    "        theta_0 = 0\n",
    "    h_x = theta_0 + theta_1 * x\n",
    "    return h_x\n",
    "\n",
    "def Cost_fun(x,real_data, theta_1, theta_0 = None ):\n",
    "    J = (np.sum(abs(Hypothesis(x,theta_1, theta_0)-real_data)))/600\n",
    "    return J\n",
    "Cost_fun(x_data, y_data, 2, 2)\n",
    "\n",
    "this = np.zeros((100,100))\n",
    "\n",
    "for i in range(100):\n",
    "    for j in range(100):\n",
    "        j1 = v1[j]\n",
    "        i1 = v0[i]\n",
    "        JJJ = Cost_fun(xx, y_data, j1, i1)\n",
    "        this[i,j] = JJJ\n",
    "        \n",
    "v00,v10 = np.meshgrid(v0,v1)\n",
    "fig = plt.figure(figsize=(20,20))\n",
    "ax = fig.gca(projection ='3d')\n",
    "surf = ax.plot_surface(v00,v10,this,cmap = cm.coolwarm)\n",
    "plt.rc('xtick',labelsize=10)\n",
    "plt.rc('ytick',labelsize=10)\n",
    "ax.set_xlabel(r'$\\theta_0$',fontsize=20)\n",
    "ax.set_ylabel(r'$\\theta_1$',fontsize=20)\n",
    "ax.set_zlabel(r'$J(\\theta_0,\\theta_1)$',fontsize=20)\n",
    "plt.savefig('meeting2.png',format='png')\n",
    "\n",
    "fig2 = plt.figure(figsize =(20,20))\n",
    "plt.contourf(v00,v10,this,cmap = cm.coolwarm)\n",
    "plt.colorbar()\n",
    "plt.savefig('ccccc.png',format='png')\n",
    "plt.show()"
   ]
  },
  {
   "cell_type": "code",
   "execution_count": 209,
   "metadata": {
    "collapsed": false
   },
   "outputs": [],
   "source": [
    "\n",
    "plt.figure()\n",
    "plt.scatter(x_data,y_data,label = 'Data')\n",
    "plt.plot(xx,h[50],label = 'Current Hypothesis')\n",
    "plt.legend(loc='best')\n",
    "plt.savefig('meeting3.png',format='png')\n",
    "plt.show()"
   ]
  },
  {
   "cell_type": "code",
   "execution_count": 9,
   "metadata": {
    "collapsed": false
   },
   "outputs": [
    {
     "name": "stdout",
     "output_type": "stream",
     "text": [
      "\u001b[0m\u001b[01;35mccccc.png\u001b[0m     \u001b[01;35mmeeting2.png\u001b[0m  merrting_show1.ipynb  tes3.py\r\n",
      "\u001b[01;35mfigure_1.png\u001b[0m  meeting3,png  new.py                Untitled.ipynb\r\n",
      "\u001b[01;35mmeet1.png\u001b[0m     \u001b[01;35mmeeting3.png\u001b[0m  newtxt.txt\r\n"
     ]
    }
   ],
   "source": [
    "ls"
   ]
  },
  {
   "cell_type": "code",
   "execution_count": null,
   "metadata": {
    "collapsed": true
   },
   "outputs": [],
   "source": []
  }
 ],
 "metadata": {
  "kernelspec": {
   "display_name": "Python [Root]",
   "language": "python",
   "name": "Python [Root]"
  },
  "language_info": {
   "codemirror_mode": {
    "name": "ipython",
    "version": 2
   },
   "file_extension": ".py",
   "mimetype": "text/x-python",
   "name": "python",
   "nbconvert_exporter": "python",
   "pygments_lexer": "ipython2",
   "version": "2.7.12"
  }
 },
 "nbformat": 4,
 "nbformat_minor": 0
}
